{
 "cells": [
  {
   "cell_type": "markdown",
   "metadata": {},
   "source": [
    "# Performance of Regular Expressions"
   ]
  },
  {
   "cell_type": "code",
   "execution_count": 1,
   "metadata": {},
   "outputs": [],
   "source": [
    "import re"
   ]
  },
  {
   "cell_type": "code",
   "execution_count": 2,
   "metadata": {},
   "outputs": [],
   "source": [
    "from time import clock as now"
   ]
  },
  {
   "cell_type": "code",
   "execution_count": 12,
   "metadata": {},
   "outputs": [],
   "source": [
    "def test(f, *args, **kwargs):\n",
    "    start = now()\n",
    "    f(*args, **kwargs)\n",
    "    print('The function \"%s\" takes: %fs' % (f.__name__, now() - start))"
   ]
  },
  {
   "cell_type": "markdown",
   "metadata": {},
   "source": [
    "Testing regex:"
   ]
  },
  {
   "cell_type": "code",
   "execution_count": 13,
   "metadata": {},
   "outputs": [
    {
     "name": "stdout",
     "output_type": "stream",
     "text": [
      "The function \"alternation\" takes: 0.000026s\n"
     ]
    }
   ],
   "source": [
    "def alternation(text):\n",
    "    pat = re.compile('spa(in|niard)')\n",
    "    pat.search(text)\n",
    "test(alternation, \"spain\")"
   ]
  },
  {
   "cell_type": "markdown",
   "metadata": {},
   "source": [
    "## cProfile:"
   ]
  },
  {
   "cell_type": "code",
   "execution_count": 15,
   "metadata": {},
   "outputs": [
    {
     "name": "stdout",
     "output_type": "stream",
     "text": [
      "         7 function calls in 0.000 seconds\n",
      "\n",
      "   Ordered by: standard name\n",
      "\n",
      "   ncalls  tottime  percall  cumtime  percall filename:lineno(function)\n",
      "        1    0.000    0.000    0.000    0.000 <ipython-input-13-ce3077ff9bd0>:1(alternation)\n",
      "        1    0.000    0.000    0.000    0.000 <string>:1(<module>)\n",
      "        1    0.000    0.000    0.000    0.000 re.py:221(compile)\n",
      "        1    0.000    0.000    0.000    0.000 re.py:277(_compile)\n",
      "        1    0.000    0.000    0.000    0.000 {built-in method exec}\n",
      "        1    0.000    0.000    0.000    0.000 {method 'disable' of '_lsprof.Profiler' objects}\n",
      "        1    0.000    0.000    0.000    0.000 {method 'search' of '_sre.SRE_Pattern' objects}\n",
      "\n",
      "\n"
     ]
    }
   ],
   "source": [
    "import cProfile\n",
    "cProfile.run('alternation(\"spaniard\")')"
   ]
  },
  {
   "cell_type": "markdown",
   "metadata": {},
   "source": [
    "## Debug"
   ]
  },
  {
   "cell_type": "code",
   "execution_count": 16,
   "metadata": {},
   "outputs": [
    {
     "name": "stdout",
     "output_type": "stream",
     "text": [
      "max_repeat 1 4294967295\n",
      "  subpattern 1\n",
      "    max_repeat 1 4294967295\n",
      "      in\n",
      "        category category_word\n",
      "    max_repeat 1 4294967295\n",
      "      in\n",
      "        category category_digit\n",
      "literal 45\n",
      "in\n",
      "  category category_digit\n",
      "in\n",
      "  category category_digit\n"
     ]
    },
    {
     "data": {
      "text/plain": [
       "re.compile(r'(\\w+\\d+)+-\\d\\d', re.UNICODE|re.DEBUG)"
      ]
     },
     "execution_count": 16,
     "output_type": "execute_result",
     "metadata": {}
    }
   ],
   "source": [
    "re.compile(r'(\\w+\\d+)+-\\d\\d', re.DEBUG)"
   ]
  },
  {
   "cell_type": "markdown",
   "metadata": {},
   "source": [
    "## Backtracking"
   ]
  },
  {
   "cell_type": "code",
   "execution_count": 20,
   "metadata": {},
   "outputs": [
    {
     "name": "stdout",
     "output_type": "stream",
     "text": [
      "Testing with 15 characters\n",
      "The function \"catastrophic\" takes: 0.007167s\n",
      "Testing with 16 characters\n",
      "The function \"catastrophic\" takes: 0.011755s\n",
      "Testing with 17 characters\n",
      "The function \"catastrophic\" takes: 0.011958s\n",
      "Testing with 18 characters\n",
      "The function \"catastrophic\" takes: 0.022251s\n",
      "Testing with 19 characters\n",
      "The function \"catastrophic\" takes: 0.037286s\n",
      "Testing with 20 characters\n",
      "The function \"catastrophic\" takes: 0.090936s\n",
      "Testing with 21 characters\n",
      "The function \"catastrophic\" takes: 0.160596s\n",
      "Testing with 22 characters\n",
      "The function \"catastrophic\" takes: 0.318069s\n",
      "Testing with 23 characters\n",
      "The function \"catastrophic\" takes: 0.595566s\n",
      "Testing with 24 characters\n",
      "The function \"catastrophic\" takes: 1.233160s\n"
     ]
    }
   ],
   "source": [
    "def catastrophic(n):\n",
    "    print('Testing with %d characters' % n)\n",
    "    pat = re.compile('(a+)+c')\n",
    "    text = \"%s\" % ('a'*n)\n",
    "    pat.search(text)\n",
    "for n in range(15, 25):\n",
    "    test(catastrophic, n)"
   ]
  },
  {
   "cell_type": "code",
   "execution_count": 21,
   "metadata": {},
   "outputs": [
    {
     "name": "stdout",
     "output_type": "stream",
     "text": [
      "Testing with 10 characters\n",
      "The function \"catastrophic\" takes: 0.053931s\n",
      "Testing with 11 characters\n",
      "The function \"catastrophic\" takes: 0.170372s\n",
      "Testing with 12 characters\n",
      "The function \"catastrophic\" takes: 0.640270s\n",
      "Testing with 13 characters\n",
      "The function \"catastrophic\" takes: 2.594830s\n",
      "Testing with 14 characters\n",
      "The function \"catastrophic\" takes: 10.701644s\n"
     ]
    }
   ],
   "source": [
    "def catastrophic(n):\n",
    "    print('Testing with %d characters' % n)\n",
    "    pat = re.compile('(x+)+(b+)+c')\n",
    "    text = 'x'*n\n",
    "    text += 'b'*n\n",
    "    pat.search(text)\n",
    "\n",
    "for n in range(10, 15):\n",
    "    test(catastrophic, n)"
   ]
  },
  {
   "cell_type": "markdown",
   "metadata": {},
   "source": [
    "Regex has a match:"
   ]
  },
  {
   "cell_type": "code",
   "execution_count": 22,
   "metadata": {},
   "outputs": [
    {
     "name": "stdout",
     "output_type": "stream",
     "text": [
      "Testing with 12 characters\n",
      "The function \"non_catastrophic\" takes: 0.000048s\n",
      "Testing with 13 characters\n",
      "The function \"non_catastrophic\" takes: 0.000016s\n",
      "Testing with 14 characters\n",
      "The function \"non_catastrophic\" takes: 0.000015s\n",
      "Testing with 15 characters\n",
      "The function \"non_catastrophic\" takes: 0.000014s\n",
      "Testing with 16 characters\n",
      "The function \"non_catastrophic\" takes: 0.000046s\n",
      "Testing with 17 characters\n",
      "The function \"non_catastrophic\" takes: 0.000015s\n"
     ]
    }
   ],
   "source": [
    "def non_catastrophic(n):\n",
    "    print('Testing with %d characters' % n)\n",
    "    pat = re.compile('(x+)+(b+)+c')\n",
    "    text = 'x'*n\n",
    "    text += 'b'*n\n",
    "    text += 'c'\n",
    "    pat.search(text)\n",
    "\n",
    "for n in range(12, 18):\n",
    "    test(non_catastrophic, n)"
   ]
  },
  {
   "cell_type": "markdown",
   "metadata": {},
   "source": [
    "## Optimisation Recomendations"
   ]
  },
  {
   "cell_type": "markdown",
   "metadata": {},
   "source": [
    "### Reuse Compiled Patterns"
   ]
  },
  {
   "cell_type": "code",
   "execution_count": 34,
   "metadata": {},
   "outputs": [
    {
     "name": "stdout",
     "output_type": "stream",
     "text": [
      "The function \"call100thousandtimes\" takes: 0.082300s\n"
     ]
    }
   ],
   "source": [
    "def dontreuse():\n",
    "    pattern = re.compile(r'\\bfoo\\b')\n",
    "    pattern.match('foo bar')\n",
    "\n",
    "\n",
    "def call100thousandtimes():\n",
    "    for _ in range(10**5):\n",
    "        dontreuse()\n",
    "\n",
    "test(call100thousandtimes)"
   ]
  },
  {
   "cell_type": "code",
   "execution_count": 33,
   "metadata": {},
   "outputs": [
    {
     "name": "stdout",
     "output_type": "stream",
     "text": [
      "The function \"call100thousandtimes\" takes: 0.052349s\n"
     ]
    }
   ],
   "source": [
    "pattern = re.compile(r'\\bfoo\\b')\n",
    "\n",
    "\n",
    "def reuse():\n",
    "    pattern.match('foo bar')\n",
    "\n",
    "\n",
    "def call100thousandtimes():\n",
    "    for _ in range(10**5):\n",
    "        reuse()\n",
    "\n",
    "test(call100thousandtimes)"
   ]
  },
  {
   "cell_type": "markdown",
   "metadata": {},
   "source": [
    "### Extract Common Parts in Alternation"
   ]
  },
  {
   "cell_type": "code",
   "execution_count": 39,
   "metadata": {},
   "outputs": [
    {
     "name": "stdout",
     "output_type": "stream",
     "text": [
      "The function \"call100thousandtimes\" takes: 0.036289s\n"
     ]
    }
   ],
   "source": [
    "pattern = re.compile(r'/(Hello\\sWorld|Hello\\sContinent|Hello\\sCountry)')\n",
    "\n",
    "\n",
    "def nonoptimized():\n",
    "    pattern.match('Hello\\sCountry')\n",
    "\n",
    "\n",
    "def call100thousandtimes():\n",
    "    for _ in range(10**5):\n",
    "        nonoptimized()\n",
    "\n",
    "test(call100thousandtimes)"
   ]
  },
  {
   "cell_type": "code",
   "execution_count": 40,
   "metadata": {},
   "outputs": [
    {
     "name": "stdout",
     "output_type": "stream",
     "text": [
      "The function \"call100thousandtimes\" takes: 0.032092s\n"
     ]
    }
   ],
   "source": [
    "pattern = re.compile(r'/Hello\\s(World|Continent|Country)')\n",
    "\n",
    "\n",
    "def optimize():\n",
    "    pattern.match('Hello\\sCountry')\n",
    "\n",
    "\n",
    "def call100thousandtimes():\n",
    "    for _ in range(10**5):\n",
    "        optimize()\n",
    "\n",
    "test(call100thousandtimes)"
   ]
  },
  {
   "cell_type": "markdown",
   "metadata": {},
   "source": [
    "### Shortcut to Alternation"
   ]
  },
  {
   "cell_type": "code",
   "execution_count": 49,
   "metadata": {},
   "outputs": [
    {
     "name": "stdout",
     "output_type": "stream",
     "text": [
      "The function \"call100thousandtimes\" takes: 0.038565s\n"
     ]
    }
   ],
   "source": [
    "pattern = re.compile(r'(white|black|red|blue|green)')\n",
    "\n",
    "\n",
    "def optimized():\n",
    "    pattern.match('white')\n",
    "\n",
    "\n",
    "def call100thousandtimes():\n",
    "    for _ in range(10**5):\n",
    "        optimized()\n",
    "\n",
    "test(call100thousandtimes)"
   ]
  },
  {
   "cell_type": "code",
   "execution_count": 50,
   "metadata": {},
   "outputs": [
    {
     "name": "stdout",
     "output_type": "stream",
     "text": [
      "The function \"call100thousandtimes\" takes: 0.041657s\n"
     ]
    }
   ],
   "source": [
    "pattern = re.compile(r'(green|blue|red|black|white)')\n",
    "\n",
    "\n",
    "def nonoptimized():\n",
    "    pattern.match('white')\n",
    "\n",
    "\n",
    "def call100thousandtimes():\n",
    "    for _ in range(10**5):\n",
    "        nonoptimized()\n",
    "\n",
    "test(call100thousandtimes)"
   ]
  },
  {
   "cell_type": "markdown",
   "metadata": {},
   "source": [
    "### Use Non-capturing Groups"
   ]
  }
 ],
 "metadata": {
  "kernelspec": {
   "display_name": "Python 3",
   "language": "python",
   "name": "python3"
  },
  "language_info": {
   "codemirror_mode": {
    "name": "ipython",
    "version": 3.0
   },
   "file_extension": ".py",
   "mimetype": "text/x-python",
   "name": "python",
   "nbconvert_exporter": "python",
   "pygments_lexer": "ipython3",
   "version": "3.4.3"
  }
 },
 "nbformat": 4,
 "nbformat_minor": 0
}